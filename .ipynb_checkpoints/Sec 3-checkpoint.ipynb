{
 "cells": [
  {
   "cell_type": "markdown",
   "metadata": {},
   "source": [
    "### Section 3"
   ]
  },
  {
   "cell_type": "markdown",
   "metadata": {},
   "source": [
    "#### What kind of algorithms would you explore to solve this issue? What's your preferred model? How would you compare different models, and why? Explain the pros and cons of each of these models."
   ]
  },
  {
   "cell_type": "markdown",
   "metadata": {},
   "source": [
    "I would use Collaborative filtering based algorithm to solve this issue. My preferred model that would use dimentionality reduction based technique such as matrix factorization and SVD. To compare different models best option is to do research find one and two popular models and quickly implement them to see performances. A survey paper like [A Survey of Collaborative Filtering Techniques by Xiaoyuan Su and Taghi M. Khoshgoftaar](https://www.hindawi.com/journals/aai/2009/421425/) can give us a good overview of various algorithms. Here is pros and cons various Collaborative filtering based algorithm collected from the same paper https://www.hindawi.com/journals/aai/2009/421425/tab2/"
   ]
  },
  {
   "cell_type": "markdown",
   "metadata": {},
   "source": [
    "![CF.png](CF.png)"
   ]
  },
  {
   "cell_type": "code",
   "execution_count": null,
   "metadata": {},
   "outputs": [],
   "source": []
  }
 ],
 "metadata": {
  "celltoolbar": "Attachments",
  "kernelspec": {
   "display_name": "Python 3",
   "language": "python",
   "name": "python3"
  },
  "language_info": {
   "codemirror_mode": {
    "name": "ipython",
    "version": 3
   },
   "file_extension": ".py",
   "mimetype": "text/x-python",
   "name": "python",
   "nbconvert_exporter": "python",
   "pygments_lexer": "ipython3",
   "version": "3.7.3"
  }
 },
 "nbformat": 4,
 "nbformat_minor": 2
}
