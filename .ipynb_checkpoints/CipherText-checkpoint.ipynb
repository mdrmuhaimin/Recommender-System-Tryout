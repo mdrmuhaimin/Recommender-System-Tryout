{
 "cells": [
  {
   "cell_type": "code",
   "execution_count": 12,
   "metadata": {},
   "outputs": [],
   "source": [
    "import math"
   ]
  },
  {
   "cell_type": "code",
   "execution_count": 13,
   "metadata": {},
   "outputs": [],
   "source": [
    "def process_string(input_str):\n",
    "    input_str = input_str.replace(' ', '').lower()\n",
    "    input_len = len(input_str)\n",
    "    row_lower_limit = math.floor(math.sqrt(input_len))\n",
    "    higher_column_limit = math.ceil(math.sqrt(input_len))\n",
    "    return input_str, input_len, row_lower_limit, higher_column_limit\n",
    "\n",
    "def create_cipher(input_str):\n",
    "    input_str, input_len, row_lower_limit, higher_column_limit = process_string(input_str)\n",
    "    words = []\n",
    "    total_len = 0\n",
    "    for i in range(0, input_len, higher_column_limit):\n",
    "        total_len += higher_column_limit\n",
    "        empty_strings = []\n",
    "        if total_len - input_len > 0:\n",
    "            empty_strings = [''] * (total_len - input_len)\n",
    "        words.append(list(input_str[i:i+higher_column_limit]) + empty_strings)\n",
    "    words = [''.join([row[i] for row in words]) for i in range(0, higher_column_limit)]\n",
    "    return ' '.join(words)"
   ]
  },
  {
   "cell_type": "code",
   "execution_count": 14,
   "metadata": {},
   "outputs": [
    {
     "data": {
      "text/plain": [
       "'ofoivohe nrtsolet aoeyuoa smnorul cowuirp anhrtoh leafefa ettactb'"
      ]
     },
     "execution_count": 14,
     "metadata": {},
     "output_type": "execute_result"
    }
   ],
   "source": [
    "input_str = 'On a scale from one to ten what is your favourite colour of the alphabet'\n",
    "print(create_cipher(input_str))"
   ]
  },
  {
   "cell_type": "code",
   "execution_count": 15,
   "metadata": {},
   "outputs": [],
   "source": [
    "test_cases = [\n",
    "    ('On a scale from one to ten what is your favourite colour of the alphabet', \n",
    "     'ofoivohe nrtsolet aoeyuoa smnorul cowuirp anhrtoh leafefa ettactb'),\n",
    "    ('lookadistraction', 'latt odri oiao kscn'),\n",
    "    ('bananaerror', 'bnr aao ner ar'),\n",
    "    ('chillout', 'clu hlt io'),\n",
    "    ('    i      ', 'i'),\n",
    "    (' i m xy ', 'ix my'),\n",
    "    ('i m x,y', 'i, my x')\n",
    "]\n",
    "for test_case in test_cases:\n",
    "    try:\n",
    "        assert create_cipher(test_case[0]) == test_case[1]\n",
    "    except:\n",
    "        print('Test case failed for test case ', ' => '.join(test_case))\n"
   ]
  }
 ],
 "metadata": {
  "kernelspec": {
   "display_name": "Python 3",
   "language": "python",
   "name": "python3"
  },
  "language_info": {
   "codemirror_mode": {
    "name": "ipython",
    "version": 3
   },
   "file_extension": ".py",
   "mimetype": "text/x-python",
   "name": "python",
   "nbconvert_exporter": "python",
   "pygments_lexer": "ipython3",
   "version": "3.7.3"
  }
 },
 "nbformat": 4,
 "nbformat_minor": 2
}
