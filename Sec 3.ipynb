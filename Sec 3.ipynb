{
 "cells": [
  {
   "cell_type": "markdown",
   "metadata": {},
   "source": [
    "### Section 3"
   ]
  },
  {
   "cell_type": "markdown",
   "metadata": {},
   "source": [
    "#### What kind of algorithms would you explore to solve this issue? What's your preferred model? How would you compare different models, and why? Explain the pros and cons of each of these models."
   ]
  },
  {
   "cell_type": "markdown",
   "metadata": {},
   "source": [
    "I would use Collaborative filtering based algorithm to solve this issue. My preferred model that would use dimentionality reduction based technique such as matrix factorization and SVD. To compare different models best option is to do research find one and two popular models and quickly implement them to see performances. A survey paper like [A Survey of Collaborative Filtering Techniques by Xiaoyuan Su and Taghi M. Khoshgoftaar](https://www.hindawi.com/journals/aai/2009/421425/) can give us a good overview of various algorithms. Here is pros and cons various Collaborative filtering based algorithm collected from the same paper https://www.hindawi.com/journals/aai/2009/421425/tab2/"
   ]
  },
  {
   "cell_type": "markdown",
   "metadata": {},
   "source": [
    "![CF.png](CF.png)"
   ]
  },
  {
   "cell_type": "markdown",
   "metadata": {},
   "source": [
    "#### Let's assume we have chosen to work with a matrix factorization model.\n",
    "- #### What are the steps/techniques you use to make sure that you're not over-fitting your model?\n",
    "    - I would use a regularization parameters to avoid over-fitting my model\n",
    "    \n",
    "    \n",
    "- #### What techniques would you use to detect outliers?\n",
    "    - To detect outliers I would run an clustering algorithm such as PAM (Partition around medoid). I also wrote myself a detail tutorial how to implement it using R. You can access it [here](https://medium.com/@rumman1988/clustering-categorical-and-numerical-datatype-using-gower-distance-ab89b3aa90d9) \n",
    "    \n",
    "    \n",
    "- #### How would you solve the cold start problem? (i.e. how would you update the algorithm so it not only can make recommendations to the existing users in the recommender, but also to new users)\n",
    "    - For new users we can build their persona using the following techniques recommend based on their persona\n",
    "        - Based on new user's details such as age, demographic, location etc find similar existing user to him\n",
    "        - Track users initial shopping habit \n",
    "        - Use available external data such as data from different sources, social media etc\n",
    "        \n",
    "        \n",
    "- #### Propose a model that incorporates both the ratings and the Shoppers and Products attributes (age, gender, location for shoppers, type, size, color for products)? Describe your technique.\n",
    "    - From age, gender, location for shoppers we can classify users of similar persona\n",
    "    - For type, size, color of products we can classify products of similar attributes\n",
    "    - From this we can use content based recommendation based on user's previous ratings\n",
    "    - Now the build our algorithm based on our hypothesis users of similar personas will like product of similar attributes\n",
    "    - In matrix factorization we determine user of similar personas by comparing similarity of ratings of same products amongst users. In this case we can use this additional attributes as well. This would be a hybrid approach of collaborative filtering and content based recommendation\n",
    "    - When we decide whether to recommend a product to a particular user or not we can consider whether users of similar persona liked products of similar attributes or not."
   ]
  },
  {
   "cell_type": "markdown",
   "metadata": {},
   "source": [
    "#### Assume we have 1 instance of our model per store (each store has its own recommender) due to resource (memory and time) limitations. How would you efficiently recommend items from one store to another? These stores can share shoppers. Describe your solution(s)."
   ]
  },
  {
   "cell_type": "markdown",
   "metadata": {},
   "source": [
    "- Assuming we have Shoppers and Product attributes we can use content based recommendation across the stores.For example if user highly rated some items in a previously visited store we can recommend items similar to that from his current stores. \n",
    "- For two similar users if one user rated highly one item in one store, other user can be recommended a similar item from a different store"
   ]
  },
  {
   "cell_type": "markdown",
   "metadata": {},
   "source": [
    "### Resource used\n",
    " - https://www.coursera.org/lecture/machine-learning-with-python/content-based-recommender-systems-jPrfc\n",
    " - https://engineering.shopify.com/blogs/engineering/how-shopify-uses-recommender-systems-to-empower-entrepreneurs\n",
    " - https://en.wikipedia.org/wiki/Collaborative_filtering\n",
    " - https://www.hindawi.com/journals/aai/2009/421425/\n",
    " - https://towardsdatascience.com/paper-summary-matrix-factorization-techniques-for-recommender-systems-82d1a7ace74"
   ]
  },
  {
   "cell_type": "code",
   "execution_count": null,
   "metadata": {},
   "outputs": [],
   "source": []
  }
 ],
 "metadata": {
  "celltoolbar": "Raw Cell Format",
  "kernelspec": {
   "display_name": "Python 3",
   "language": "python",
   "name": "python3"
  },
  "language_info": {
   "codemirror_mode": {
    "name": "ipython",
    "version": 3
   },
   "file_extension": ".py",
   "mimetype": "text/x-python",
   "name": "python",
   "nbconvert_exporter": "python",
   "pygments_lexer": "ipython3",
   "version": "3.7.3"
  }
 },
 "nbformat": 4,
 "nbformat_minor": 2
}
